{
  "cells": [
    {
      "cell_type": "markdown",
      "metadata": {
        "id": "gOg8k1S3492e"
      },
      "source": [
        "### Установка библиотеки и подключение к диску.\n"
      ]
    },
    {
      "cell_type": "code",
      "execution_count": null,
      "metadata": {
        "id": "h0U_ZHACIUNm"
      },
      "outputs": [],
      "source": [
        "import os\n",
        "import numpy as np"
      ]
    },
    {
      "cell_type": "code",
      "execution_count": null,
      "metadata": {
        "colab": {
          "base_uri": "https://localhost:8080/"
        },
        "id": "WPN3_sU4IUNq",
        "outputId": "fa0548e0-e95d-40f9-afd8-c385f5e4a0b1"
      },
      "outputs": [
        {
          "name": "stdout",
          "output_type": "stream",
          "text": [
            "Collecting giotto-tda\n",
            "  Downloading giotto_tda-0.6.0-cp310-cp310-manylinux_2_17_x86_64.manylinux2014_x86_64.whl (1.3 MB)\n",
            "\u001b[2K     \u001b[90m━━━━━━━━━━━━━━━━━━━━━━━━━━━━━━━━━━━━━━━━\u001b[0m \u001b[32m1.3/1.3 MB\u001b[0m \u001b[31m10.2 MB/s\u001b[0m eta \u001b[36m0:00:00\u001b[0m\n",
            "\u001b[?25hRequirement already satisfied: numpy>=1.19.1 in /usr/local/lib/python3.10/dist-packages (from giotto-tda) (1.25.2)\n",
            "Requirement already satisfied: scipy>=1.5.0 in /usr/local/lib/python3.10/dist-packages (from giotto-tda) (1.11.4)\n",
            "Requirement already satisfied: joblib>=0.16.0 in /usr/local/lib/python3.10/dist-packages (from giotto-tda) (1.3.2)\n",
            "Requirement already satisfied: scikit-learn>=0.23.1 in /usr/local/lib/python3.10/dist-packages (from giotto-tda) (1.2.2)\n",
            "Collecting giotto-ph>=0.2.1 (from giotto-tda)\n",
            "  Downloading giotto_ph-0.2.2-cp310-cp310-manylinux_2_17_x86_64.manylinux2014_x86_64.whl (526 kB)\n",
            "\u001b[2K     \u001b[90m━━━━━━━━━━━━━━━━━━━━━━━━━━━━━━━━━━━━━━━━\u001b[0m \u001b[32m526.4/526.4 kB\u001b[0m \u001b[31m17.8 MB/s\u001b[0m eta \u001b[36m0:00:00\u001b[0m\n",
            "\u001b[?25hCollecting pyflagser>=0.4.3 (from giotto-tda)\n",
            "  Downloading pyflagser-0.4.5-cp310-cp310-manylinux_2_17_x86_64.manylinux2014_x86_64.whl (452 kB)\n",
            "\u001b[2K     \u001b[90m━━━━━━━━━━━━━━━━━━━━━━━━━━━━━━━━━━━━━━━━\u001b[0m \u001b[32m452.9/452.9 kB\u001b[0m \u001b[31m18.6 MB/s\u001b[0m eta \u001b[36m0:00:00\u001b[0m\n",
            "\u001b[?25hCollecting igraph>=0.9.8 (from giotto-tda)\n",
            "  Downloading igraph-0.11.4-cp39-abi3-manylinux_2_17_x86_64.manylinux2014_x86_64.whl (3.3 MB)\n",
            "\u001b[2K     \u001b[90m━━━━━━━━━━━━━━━━━━━━━━━━━━━━━━━━━━━━━━━━\u001b[0m \u001b[32m3.3/3.3 MB\u001b[0m \u001b[31m34.4 MB/s\u001b[0m eta \u001b[36m0:00:00\u001b[0m\n",
            "\u001b[?25hRequirement already satisfied: plotly>=4.8.2 in /usr/local/lib/python3.10/dist-packages (from giotto-tda) (5.15.0)\n",
            "Requirement already satisfied: ipywidgets>=7.5.1 in /usr/local/lib/python3.10/dist-packages (from giotto-tda) (7.7.1)\n",
            "Collecting texttable>=1.6.2 (from igraph>=0.9.8->giotto-tda)\n",
            "  Downloading texttable-1.7.0-py2.py3-none-any.whl (10 kB)\n",
            "Requirement already satisfied: ipykernel>=4.5.1 in /usr/local/lib/python3.10/dist-packages (from ipywidgets>=7.5.1->giotto-tda) (5.5.6)\n",
            "Requirement already satisfied: ipython-genutils~=0.2.0 in /usr/local/lib/python3.10/dist-packages (from ipywidgets>=7.5.1->giotto-tda) (0.2.0)\n",
            "Requirement already satisfied: traitlets>=4.3.1 in /usr/local/lib/python3.10/dist-packages (from ipywidgets>=7.5.1->giotto-tda) (5.7.1)\n",
            "Requirement already satisfied: widgetsnbextension~=3.6.0 in /usr/local/lib/python3.10/dist-packages (from ipywidgets>=7.5.1->giotto-tda) (3.6.6)\n",
            "Requirement already satisfied: ipython>=4.0.0 in /usr/local/lib/python3.10/dist-packages (from ipywidgets>=7.5.1->giotto-tda) (7.34.0)\n",
            "Requirement already satisfied: jupyterlab-widgets>=1.0.0 in /usr/local/lib/python3.10/dist-packages (from ipywidgets>=7.5.1->giotto-tda) (3.0.10)\n",
            "Requirement already satisfied: tenacity>=6.2.0 in /usr/local/lib/python3.10/dist-packages (from plotly>=4.8.2->giotto-tda) (8.2.3)\n",
            "Requirement already satisfied: packaging in /usr/local/lib/python3.10/dist-packages (from plotly>=4.8.2->giotto-tda) (24.0)\n",
            "Requirement already satisfied: threadpoolctl>=2.0.0 in /usr/local/lib/python3.10/dist-packages (from scikit-learn>=0.23.1->giotto-tda) (3.4.0)\n",
            "Requirement already satisfied: jupyter-client in /usr/local/lib/python3.10/dist-packages (from ipykernel>=4.5.1->ipywidgets>=7.5.1->giotto-tda) (6.1.12)\n",
            "Requirement already satisfied: tornado>=4.2 in /usr/local/lib/python3.10/dist-packages (from ipykernel>=4.5.1->ipywidgets>=7.5.1->giotto-tda) (6.3.3)\n",
            "Requirement already satisfied: setuptools>=18.5 in /usr/local/lib/python3.10/dist-packages (from ipython>=4.0.0->ipywidgets>=7.5.1->giotto-tda) (67.7.2)\n",
            "Collecting jedi>=0.16 (from ipython>=4.0.0->ipywidgets>=7.5.1->giotto-tda)\n",
            "  Downloading jedi-0.19.1-py2.py3-none-any.whl (1.6 MB)\n",
            "\u001b[2K     \u001b[90m━━━━━━━━━━━━━━━━━━━━━━━━━━━━━━━━━━━━━━━━\u001b[0m \u001b[32m1.6/1.6 MB\u001b[0m \u001b[31m42.4 MB/s\u001b[0m eta \u001b[36m0:00:00\u001b[0m\n",
            "\u001b[?25hRequirement already satisfied: decorator in /usr/local/lib/python3.10/dist-packages (from ipython>=4.0.0->ipywidgets>=7.5.1->giotto-tda) (4.4.2)\n",
            "Requirement already satisfied: pickleshare in /usr/local/lib/python3.10/dist-packages (from ipython>=4.0.0->ipywidgets>=7.5.1->giotto-tda) (0.7.5)\n",
            "Requirement already satisfied: prompt-toolkit!=3.0.0,!=3.0.1,<3.1.0,>=2.0.0 in /usr/local/lib/python3.10/dist-packages (from ipython>=4.0.0->ipywidgets>=7.5.1->giotto-tda) (3.0.43)\n",
            "Requirement already satisfied: pygments in /usr/local/lib/python3.10/dist-packages (from ipython>=4.0.0->ipywidgets>=7.5.1->giotto-tda) (2.16.1)\n",
            "Requirement already satisfied: backcall in /usr/local/lib/python3.10/dist-packages (from ipython>=4.0.0->ipywidgets>=7.5.1->giotto-tda) (0.2.0)\n",
            "Requirement already satisfied: matplotlib-inline in /usr/local/lib/python3.10/dist-packages (from ipython>=4.0.0->ipywidgets>=7.5.1->giotto-tda) (0.1.6)\n",
            "Requirement already satisfied: pexpect>4.3 in /usr/local/lib/python3.10/dist-packages (from ipython>=4.0.0->ipywidgets>=7.5.1->giotto-tda) (4.9.0)\n",
            "Requirement already satisfied: notebook>=4.4.1 in /usr/local/lib/python3.10/dist-packages (from widgetsnbextension~=3.6.0->ipywidgets>=7.5.1->giotto-tda) (6.5.5)\n",
            "Requirement already satisfied: parso<0.9.0,>=0.8.3 in /usr/local/lib/python3.10/dist-packages (from jedi>=0.16->ipython>=4.0.0->ipywidgets>=7.5.1->giotto-tda) (0.8.3)\n",
            "Requirement already satisfied: jinja2 in /usr/local/lib/python3.10/dist-packages (from notebook>=4.4.1->widgetsnbextension~=3.6.0->ipywidgets>=7.5.1->giotto-tda) (3.1.3)\n",
            "Requirement already satisfied: pyzmq<25,>=17 in /usr/local/lib/python3.10/dist-packages (from notebook>=4.4.1->widgetsnbextension~=3.6.0->ipywidgets>=7.5.1->giotto-tda) (23.2.1)\n",
            "Requirement already satisfied: argon2-cffi in /usr/local/lib/python3.10/dist-packages (from notebook>=4.4.1->widgetsnbextension~=3.6.0->ipywidgets>=7.5.1->giotto-tda) (23.1.0)\n",
            "Requirement already satisfied: jupyter-core>=4.6.1 in /usr/local/lib/python3.10/dist-packages (from notebook>=4.4.1->widgetsnbextension~=3.6.0->ipywidgets>=7.5.1->giotto-tda) (5.7.2)\n",
            "Requirement already satisfied: nbformat in /usr/local/lib/python3.10/dist-packages (from notebook>=4.4.1->widgetsnbextension~=3.6.0->ipywidgets>=7.5.1->giotto-tda) (5.10.3)\n",
            "Requirement already satisfied: nbconvert>=5 in /usr/local/lib/python3.10/dist-packages (from notebook>=4.4.1->widgetsnbextension~=3.6.0->ipywidgets>=7.5.1->giotto-tda) (6.5.4)\n",
            "Requirement already satisfied: nest-asyncio>=1.5 in /usr/local/lib/python3.10/dist-packages (from notebook>=4.4.1->widgetsnbextension~=3.6.0->ipywidgets>=7.5.1->giotto-tda) (1.6.0)\n",
            "Requirement already satisfied: Send2Trash>=1.8.0 in /usr/local/lib/python3.10/dist-packages (from notebook>=4.4.1->widgetsnbextension~=3.6.0->ipywidgets>=7.5.1->giotto-tda) (1.8.2)\n",
            "Requirement already satisfied: terminado>=0.8.3 in /usr/local/lib/python3.10/dist-packages (from notebook>=4.4.1->widgetsnbextension~=3.6.0->ipywidgets>=7.5.1->giotto-tda) (0.18.1)\n",
            "Requirement already satisfied: prometheus-client in /usr/local/lib/python3.10/dist-packages (from notebook>=4.4.1->widgetsnbextension~=3.6.0->ipywidgets>=7.5.1->giotto-tda) (0.20.0)\n",
            "Requirement already satisfied: nbclassic>=0.4.7 in /usr/local/lib/python3.10/dist-packages (from notebook>=4.4.1->widgetsnbextension~=3.6.0->ipywidgets>=7.5.1->giotto-tda) (1.0.0)\n",
            "Requirement already satisfied: python-dateutil>=2.1 in /usr/local/lib/python3.10/dist-packages (from jupyter-client->ipykernel>=4.5.1->ipywidgets>=7.5.1->giotto-tda) (2.8.2)\n",
            "Requirement already satisfied: ptyprocess>=0.5 in /usr/local/lib/python3.10/dist-packages (from pexpect>4.3->ipython>=4.0.0->ipywidgets>=7.5.1->giotto-tda) (0.7.0)\n",
            "Requirement already satisfied: wcwidth in /usr/local/lib/python3.10/dist-packages (from prompt-toolkit!=3.0.0,!=3.0.1,<3.1.0,>=2.0.0->ipython>=4.0.0->ipywidgets>=7.5.1->giotto-tda) (0.2.13)\n",
            "Requirement already satisfied: platformdirs>=2.5 in /usr/local/lib/python3.10/dist-packages (from jupyter-core>=4.6.1->notebook>=4.4.1->widgetsnbextension~=3.6.0->ipywidgets>=7.5.1->giotto-tda) (4.2.0)\n",
            "Requirement already satisfied: jupyter-server>=1.8 in /usr/local/lib/python3.10/dist-packages (from nbclassic>=0.4.7->notebook>=4.4.1->widgetsnbextension~=3.6.0->ipywidgets>=7.5.1->giotto-tda) (1.24.0)\n",
            "Requirement already satisfied: notebook-shim>=0.2.3 in /usr/local/lib/python3.10/dist-packages (from nbclassic>=0.4.7->notebook>=4.4.1->widgetsnbextension~=3.6.0->ipywidgets>=7.5.1->giotto-tda) (0.2.4)\n",
            "Requirement already satisfied: lxml in /usr/local/lib/python3.10/dist-packages (from nbconvert>=5->notebook>=4.4.1->widgetsnbextension~=3.6.0->ipywidgets>=7.5.1->giotto-tda) (4.9.4)\n",
            "Requirement already satisfied: beautifulsoup4 in /usr/local/lib/python3.10/dist-packages (from nbconvert>=5->notebook>=4.4.1->widgetsnbextension~=3.6.0->ipywidgets>=7.5.1->giotto-tda) (4.12.3)\n",
            "Requirement already satisfied: bleach in /usr/local/lib/python3.10/dist-packages (from nbconvert>=5->notebook>=4.4.1->widgetsnbextension~=3.6.0->ipywidgets>=7.5.1->giotto-tda) (6.1.0)\n",
            "Requirement already satisfied: defusedxml in /usr/local/lib/python3.10/dist-packages (from nbconvert>=5->notebook>=4.4.1->widgetsnbextension~=3.6.0->ipywidgets>=7.5.1->giotto-tda) (0.7.1)\n",
            "Requirement already satisfied: entrypoints>=0.2.2 in /usr/local/lib/python3.10/dist-packages (from nbconvert>=5->notebook>=4.4.1->widgetsnbextension~=3.6.0->ipywidgets>=7.5.1->giotto-tda) (0.4)\n",
            "Requirement already satisfied: jupyterlab-pygments in /usr/local/lib/python3.10/dist-packages (from nbconvert>=5->notebook>=4.4.1->widgetsnbextension~=3.6.0->ipywidgets>=7.5.1->giotto-tda) (0.3.0)\n",
            "Requirement already satisfied: MarkupSafe>=2.0 in /usr/local/lib/python3.10/dist-packages (from nbconvert>=5->notebook>=4.4.1->widgetsnbextension~=3.6.0->ipywidgets>=7.5.1->giotto-tda) (2.1.5)\n",
            "Requirement already satisfied: mistune<2,>=0.8.1 in /usr/local/lib/python3.10/dist-packages (from nbconvert>=5->notebook>=4.4.1->widgetsnbextension~=3.6.0->ipywidgets>=7.5.1->giotto-tda) (0.8.4)\n",
            "Requirement already satisfied: nbclient>=0.5.0 in /usr/local/lib/python3.10/dist-packages (from nbconvert>=5->notebook>=4.4.1->widgetsnbextension~=3.6.0->ipywidgets>=7.5.1->giotto-tda) (0.10.0)\n",
            "Requirement already satisfied: pandocfilters>=1.4.1 in /usr/local/lib/python3.10/dist-packages (from nbconvert>=5->notebook>=4.4.1->widgetsnbextension~=3.6.0->ipywidgets>=7.5.1->giotto-tda) (1.5.1)\n",
            "Requirement already satisfied: tinycss2 in /usr/local/lib/python3.10/dist-packages (from nbconvert>=5->notebook>=4.4.1->widgetsnbextension~=3.6.0->ipywidgets>=7.5.1->giotto-tda) (1.2.1)\n",
            "Requirement already satisfied: fastjsonschema in /usr/local/lib/python3.10/dist-packages (from nbformat->notebook>=4.4.1->widgetsnbextension~=3.6.0->ipywidgets>=7.5.1->giotto-tda) (2.19.1)\n",
            "Requirement already satisfied: jsonschema>=2.6 in /usr/local/lib/python3.10/dist-packages (from nbformat->notebook>=4.4.1->widgetsnbextension~=3.6.0->ipywidgets>=7.5.1->giotto-tda) (4.19.2)\n",
            "Requirement already satisfied: six>=1.5 in /usr/local/lib/python3.10/dist-packages (from python-dateutil>=2.1->jupyter-client->ipykernel>=4.5.1->ipywidgets>=7.5.1->giotto-tda) (1.16.0)\n",
            "Requirement already satisfied: argon2-cffi-bindings in /usr/local/lib/python3.10/dist-packages (from argon2-cffi->notebook>=4.4.1->widgetsnbextension~=3.6.0->ipywidgets>=7.5.1->giotto-tda) (21.2.0)\n",
            "Requirement already satisfied: attrs>=22.2.0 in /usr/local/lib/python3.10/dist-packages (from jsonschema>=2.6->nbformat->notebook>=4.4.1->widgetsnbextension~=3.6.0->ipywidgets>=7.5.1->giotto-tda) (23.2.0)\n",
            "Requirement already satisfied: jsonschema-specifications>=2023.03.6 in /usr/local/lib/python3.10/dist-packages (from jsonschema>=2.6->nbformat->notebook>=4.4.1->widgetsnbextension~=3.6.0->ipywidgets>=7.5.1->giotto-tda) (2023.12.1)\n",
            "Requirement already satisfied: referencing>=0.28.4 in /usr/local/lib/python3.10/dist-packages (from jsonschema>=2.6->nbformat->notebook>=4.4.1->widgetsnbextension~=3.6.0->ipywidgets>=7.5.1->giotto-tda) (0.34.0)\n",
            "Requirement already satisfied: rpds-py>=0.7.1 in /usr/local/lib/python3.10/dist-packages (from jsonschema>=2.6->nbformat->notebook>=4.4.1->widgetsnbextension~=3.6.0->ipywidgets>=7.5.1->giotto-tda) (0.18.0)\n",
            "Requirement already satisfied: anyio<4,>=3.1.0 in /usr/local/lib/python3.10/dist-packages (from jupyter-server>=1.8->nbclassic>=0.4.7->notebook>=4.4.1->widgetsnbextension~=3.6.0->ipywidgets>=7.5.1->giotto-tda) (3.7.1)\n",
            "Requirement already satisfied: websocket-client in /usr/local/lib/python3.10/dist-packages (from jupyter-server>=1.8->nbclassic>=0.4.7->notebook>=4.4.1->widgetsnbextension~=3.6.0->ipywidgets>=7.5.1->giotto-tda) (1.7.0)\n",
            "Requirement already satisfied: cffi>=1.0.1 in /usr/local/lib/python3.10/dist-packages (from argon2-cffi-bindings->argon2-cffi->notebook>=4.4.1->widgetsnbextension~=3.6.0->ipywidgets>=7.5.1->giotto-tda) (1.16.0)\n",
            "Requirement already satisfied: soupsieve>1.2 in /usr/local/lib/python3.10/dist-packages (from beautifulsoup4->nbconvert>=5->notebook>=4.4.1->widgetsnbextension~=3.6.0->ipywidgets>=7.5.1->giotto-tda) (2.5)\n",
            "Requirement already satisfied: webencodings in /usr/local/lib/python3.10/dist-packages (from bleach->nbconvert>=5->notebook>=4.4.1->widgetsnbextension~=3.6.0->ipywidgets>=7.5.1->giotto-tda) (0.5.1)\n",
            "Requirement already satisfied: idna>=2.8 in /usr/local/lib/python3.10/dist-packages (from anyio<4,>=3.1.0->jupyter-server>=1.8->nbclassic>=0.4.7->notebook>=4.4.1->widgetsnbextension~=3.6.0->ipywidgets>=7.5.1->giotto-tda) (3.6)\n",
            "Requirement already satisfied: sniffio>=1.1 in /usr/local/lib/python3.10/dist-packages (from anyio<4,>=3.1.0->jupyter-server>=1.8->nbclassic>=0.4.7->notebook>=4.4.1->widgetsnbextension~=3.6.0->ipywidgets>=7.5.1->giotto-tda) (1.3.1)\n",
            "Requirement already satisfied: exceptiongroup in /usr/local/lib/python3.10/dist-packages (from anyio<4,>=3.1.0->jupyter-server>=1.8->nbclassic>=0.4.7->notebook>=4.4.1->widgetsnbextension~=3.6.0->ipywidgets>=7.5.1->giotto-tda) (1.2.0)\n",
            "Requirement already satisfied: pycparser in /usr/local/lib/python3.10/dist-packages (from cffi>=1.0.1->argon2-cffi-bindings->argon2-cffi->notebook>=4.4.1->widgetsnbextension~=3.6.0->ipywidgets>=7.5.1->giotto-tda) (2.22)\n",
            "Installing collected packages: texttable, jedi, igraph, pyflagser, giotto-ph, giotto-tda\n",
            "Successfully installed giotto-ph-0.2.2 giotto-tda-0.6.0 igraph-0.11.4 jedi-0.19.1 pyflagser-0.4.5 texttable-1.7.0\n"
          ]
        }
      ],
      "source": [
        "!python -m pip install -U giotto-tda"
      ]
    },
    {
      "cell_type": "code",
      "execution_count": null,
      "metadata": {
        "colab": {
          "base_uri": "https://localhost:8080/"
        },
        "id": "DTH9q6VVB8WU",
        "outputId": "2e20d558-925f-4933-bdf4-5fcbd015d1d0"
      },
      "outputs": [
        {
          "name": "stdout",
          "output_type": "stream",
          "text": [
            "Collecting gudhi\n",
            "  Downloading gudhi-3.9.0-cp310-cp310-manylinux_2_17_x86_64.manylinux2014_x86_64.whl (3.3 MB)\n",
            "\u001b[2K     \u001b[90m━━━━━━━━━━━━━━━━━━━━━━━━━━━━━━━━━━━━━━━━\u001b[0m \u001b[32m3.3/3.3 MB\u001b[0m \u001b[31m15.9 MB/s\u001b[0m eta \u001b[36m0:00:00\u001b[0m\n",
            "\u001b[?25hRequirement already satisfied: numpy>=1.15.0 in /usr/local/lib/python3.10/dist-packages (from gudhi) (1.25.2)\n",
            "Installing collected packages: gudhi\n",
            "Successfully installed gudhi-3.9.0\n"
          ]
        }
      ],
      "source": [
        "!pip install gudhi"
      ]
    },
    {
      "cell_type": "code",
      "execution_count": null,
      "metadata": {
        "colab": {
          "base_uri": "https://localhost:8080/"
        },
        "id": "lmHKj1wtHD_6",
        "outputId": "d503deb3-ce9a-49e9-85f1-03a12afbf6c0"
      },
      "outputs": [
        {
          "name": "stdout",
          "output_type": "stream",
          "text": [
            "Collecting pot\n",
            "  Downloading POT-0.9.3-cp310-cp310-manylinux_2_17_x86_64.manylinux2014_x86_64.whl (823 kB)\n",
            "\u001b[2K     \u001b[90m━━━━━━━━━━━━━━━━━━━━━━━━━━━━━━━━━━━━━━━━\u001b[0m \u001b[32m823.0/823.0 kB\u001b[0m \u001b[31m9.6 MB/s\u001b[0m eta \u001b[36m0:00:00\u001b[0m\n",
            "\u001b[?25hRequirement already satisfied: numpy>=1.16 in /usr/local/lib/python3.10/dist-packages (from pot) (1.25.2)\n",
            "Requirement already satisfied: scipy>=1.6 in /usr/local/lib/python3.10/dist-packages (from pot) (1.11.4)\n",
            "Installing collected packages: pot\n",
            "Successfully installed pot-0.9.3\n"
          ]
        }
      ],
      "source": [
        "!pip install pot"
      ]
    },
    {
      "cell_type": "code",
      "execution_count": null,
      "metadata": {
        "colab": {
          "base_uri": "https://localhost:8080/"
        },
        "id": "SCmp_gn9JG5V",
        "outputId": "0c4460ea-310f-4004-a33d-db297ec6a1ce"
      },
      "outputs": [
        {
          "name": "stdout",
          "output_type": "stream",
          "text": [
            "Mounted at /content/drive\n"
          ]
        }
      ],
      "source": [
        "from google.colab import drive\n",
        "drive.mount('/content/drive')"
      ]
    },
    {
      "cell_type": "markdown",
      "metadata": {
        "id": "fB5ryknf5Xpl"
      },
      "source": [
        "### Загружаем данные"
      ]
    },
    {
      "cell_type": "markdown",
      "metadata": {
        "id": "Na_CTPt85g_9"
      },
      "source": [
        "Функция от названия файла, возвращает массив (245, 600) - данные RS_0 и RS_FE"
      ]
    },
    {
      "cell_type": "code",
      "execution_count": null,
      "metadata": {
        "id": "Hr0Oa5E7Kr3y"
      },
      "outputs": [],
      "source": [
        "from numpy import load\n",
        "\n",
        "def file_to_array(filename):\n",
        "    archive = load(filename)\n",
        "    files = archive.files\n",
        "    array = archive['data']\n",
        "    shape = archive['shape']\n",
        "    indptr = archive['indptr']\n",
        "\n",
        "    data = np.empty((1, shape[1]))\n",
        "\n",
        "    for i in range(shape[0]):\n",
        "      data = np.append(data, [array[indptr[i]:indptr[i + 1]]], axis=0)\n",
        "\n",
        "    return data[1:][:, :300], data[1:][:, 300:]\n",
        "\n",
        "\n",
        "rs_0, rs_fe = file_to_array('/content/drive/MyDrive/hse/kursach1/human fmri/human fmri exp rs_0 vs. fe merged p1.npz')"
      ]
    },
    {
      "cell_type": "code",
      "execution_count": null,
      "metadata": {
        "colab": {
          "base_uri": "https://localhost:8080/"
        },
        "id": "9Fph6I0mavhT",
        "outputId": "522689f6-e927-4752-8140-9a630345fd34"
      },
      "outputs": [
        {
          "data": {
            "text/plain": [
              "(245, 300)"
            ]
          },
          "execution_count": 7,
          "metadata": {},
          "output_type": "execute_result"
        }
      ],
      "source": [
        "rs_0.shape"
      ]
    },
    {
      "cell_type": "markdown",
      "metadata": {
        "id": "_6gkfdxl5ryV"
      },
      "source": [
        "### Получение матрицы ковариаций и персистентной диаграммы"
      ]
    },
    {
      "cell_type": "markdown",
      "metadata": {
        "id": "wqfqzulBnYCO"
      },
      "source": [
        "Считаем матрицу ковариаций и получаем граф."
      ]
    },
    {
      "cell_type": "code",
      "execution_count": null,
      "metadata": {
        "colab": {
          "base_uri": "https://localhost:8080/"
        },
        "id": "QYcp-YE_1QB0",
        "outputId": "fc0607b4-7e97-41a2-f06a-346206669d9a"
      },
      "outputs": [
        {
          "data": {
            "text/plain": [
              "(245, 245)"
            ]
          },
          "execution_count": 8,
          "metadata": {},
          "output_type": "execute_result"
        }
      ],
      "source": [
        "import pandas as pd\n",
        "import numpy as np\n",
        "\n",
        "def corr_matrix(data, param):\n",
        "    '''\n",
        "    Computing covariance matrix of data cloud, inf if cov < param\n",
        "    '''\n",
        "    f = lambda x: abs(x) if abs(x) >= param else 0\n",
        "    vfunc = np.vectorize(f)\n",
        "\n",
        "    corr_array = np.corrcoef(data)\n",
        "\n",
        "    corr_array = vfunc(corr_array)\n",
        "    np.fill_diagonal(corr_array, 0)\n",
        "\n",
        "    return [1 - corr_array]\n",
        "\n",
        "corr_array = corr_matrix(rs_0, 0.6)\n",
        "corr_array[0].shape"
      ]
    },
    {
      "cell_type": "markdown",
      "metadata": {
        "id": "6wKScfzYnh4n"
      },
      "source": [
        "Персистентная диаграмма по графу для пациента p1\n"
      ]
    },
    {
      "cell_type": "code",
      "execution_count": null,
      "metadata": {
        "colab": {
          "base_uri": "https://localhost:8080/",
          "height": 537
        },
        "id": "va5HWi0wIUNr",
        "outputId": "644c172b-47f7-4eb6-f348-9b93f2b4c7e4"
      },
      "outputs": [
        {
          "data": {
            "text/html": [
              "<html>\n",
              "<head><meta charset=\"utf-8\" /></head>\n",
              "<body>\n",
              "    <div>            <script src=\"https://cdnjs.cloudflare.com/ajax/libs/mathjax/2.7.5/MathJax.js?config=TeX-AMS-MML_SVG\"></script><script type=\"text/javascript\">if (window.MathJax && window.MathJax.Hub && window.MathJax.Hub.Config) {window.MathJax.Hub.Config({SVG: {font: \"STIX-Web\"}});}</script>                <script type=\"text/javascript\">window.PlotlyConfig = {MathJaxConfig: 'local'};</script>\n",
              "        <script charset=\"utf-8\" src=\"https://cdn.plot.ly/plotly-2.24.1.min.js\"></script>                <div id=\"e9e57475-768e-4891-b1c8-e281e688465c\" class=\"plotly-graph-div\" style=\"height:500px; width:500px;\"></div>            <script type=\"text/javascript\">                                    window.PLOTLYENV=window.PLOTLYENV || {};                                    if (document.getElementById(\"e9e57475-768e-4891-b1c8-e281e688465c\")) {                    Plotly.newPlot(                        \"e9e57475-768e-4891-b1c8-e281e688465c\",                        [{\"hoverinfo\":\"none\",\"line\":{\"color\":\"black\",\"dash\":\"dash\",\"width\":1},\"mode\":\"lines\",\"showlegend\":false,\"x\":[0.19853407114744187,1.0157150182127952],\"y\":[0.19853407114744187,1.0157150182127952],\"type\":\"scatter\"},{\"hoverinfo\":\"text\",\"hovertext\":[],\"mode\":\"markers\",\"name\":\"H0\",\"x\":[],\"y\":[],\"type\":\"scatter\"},{\"hoverinfo\":\"text\",\"hovertext\":[\"(0.3982710540294647, 1.0)\",\"(0.39825499057769775, 1.0)\",\"(0.3975377082824707, 1.0)\",\"(0.3929937779903412, 1.0)\",\"(0.3858761191368103, 1.0)\",\"(0.3815605044364929, 0.39105504751205444)\",\"(0.38048097491264343, 0.3806745707988739)\",\"(0.3789686858654022, 0.3806745707988739)\",\"(0.3789544701576233, 1.0)\",\"(0.37798288464546204, 1.0)\",\"(0.3777284324169159, 1.0)\",\"(0.3750248849391937, 0.39173001050949097)\",\"(0.37461596727371216, 1.0)\",\"(0.37044310569763184, 1.0)\",\"(0.36989593505859375, 1.0)\",\"(0.36682596802711487, 1.0)\",\"(0.36561504006385803, 0.3843892216682434)\",\"(0.3643529713153839, 0.3881417512893677)\",\"(0.36151400208473206, 1.0)\",\"(0.35950323939323425, 1.0)\",\"(0.3589407801628113, 1.0)\",\"(0.3545173108577728, 0.3882990777492523)\",\"(0.3522018790245056, 0.3856630325317383)\",\"(0.34911277890205383, 1.0)\",\"(0.3359801471233368, 0.3791320025920868)\",\"(0.3297653794288635, 0.36967766284942627)\",\"(0.32908734679222107, 0.3403663635253906)\",\"(0.32826709747314453, 0.33021217584609985)\",\"(0.32825157046318054, 0.34750595688819885)\",\"(0.32331180572509766, 0.36893776059150696)\",\"(0.31557878851890564, 0.3405807912349701)\",\"(0.31518635153770447, 0.3287481665611267)\",\"(0.31372612714767456, 0.33115172386169434)\",\"(0.3096390962600708, 0.35584521293640137)\",\"(0.3079701066017151, 0.3292209208011627)\",\"(0.3067267835140228, 0.35058751702308655)\",\"(0.3058089315891266, 1.0)\",\"(0.3038342297077179, 0.3171415627002716)\",\"(0.2968633770942688, 0.3248254954814911)\",\"(0.29388946294784546, 0.30873844027519226)\",\"(0.28336358070373535, 0.2908278703689575)\",\"(0.2824234664440155, 0.3704909086227417)\",\"(0.2782275974750519, 0.3079080283641815)\",\"(0.27266156673431396, 0.29855775833129883)\",\"(0.27017873525619507, 0.3171415627002716)\",\"(0.26824116706848145, 0.27342739701271057)\",\"(0.26643800735473633, 0.291826993227005)\",\"(0.2651132047176361, 1.0)\",\"(0.26355502009391785, 0.3745519816875458)\",\"(0.2574511170387268, 0.35695305466651917)\",\"(0.25681278109550476, 1.0)\",\"(0.25671669840812683, 0.3052847385406494)\",\"(0.25196075439453125, 0.27903783321380615)\",\"(0.24996823072433472, 0.28266584873199463)\",\"(0.24775078892707825, 0.2689822316169739)\",\"(0.24394914507865906, 0.3079080283641815)\",\"(0.24102844297885895, 0.25431129336357117)\",\"(0.23795601725578308, 0.2458048164844513)\",\"(0.23664051294326782, 0.2977730929851532)\",\"(0.21424908936023712, 0.28224068880081177)\"],\"mode\":\"markers\",\"name\":\"H1\",\"x\":[0.3982710540294647,0.39825499057769775,0.3975377082824707,0.3929937779903412,0.3858761191368103,0.3815605044364929,0.38048097491264343,0.3789686858654022,0.3789544701576233,0.37798288464546204,0.3777284324169159,0.3750248849391937,0.37461596727371216,0.37044310569763184,0.36989593505859375,0.36682596802711487,0.36561504006385803,0.3643529713153839,0.36151400208473206,0.35950323939323425,0.3589407801628113,0.3545173108577728,0.3522018790245056,0.34911277890205383,0.3359801471233368,0.3297653794288635,0.32908734679222107,0.32826709747314453,0.32825157046318054,0.32331180572509766,0.31557878851890564,0.31518635153770447,0.31372612714767456,0.3096390962600708,0.3079701066017151,0.3067267835140228,0.3058089315891266,0.3038342297077179,0.2968633770942688,0.29388946294784546,0.28336358070373535,0.2824234664440155,0.2782275974750519,0.27266156673431396,0.27017873525619507,0.26824116706848145,0.26643800735473633,0.2651132047176361,0.26355502009391785,0.2574511170387268,0.25681278109550476,0.25671669840812683,0.25196075439453125,0.24996823072433472,0.24775078892707825,0.24394914507865906,0.24102844297885895,0.23795601725578308,0.23664051294326782,0.21424908936023712],\"y\":[1.0,1.0,1.0,1.0,1.0,0.39105504751205444,0.3806745707988739,0.3806745707988739,1.0,1.0,1.0,0.39173001050949097,1.0,1.0,1.0,1.0,0.3843892216682434,0.3881417512893677,1.0,1.0,1.0,0.3882990777492523,0.3856630325317383,1.0,0.3791320025920868,0.36967766284942627,0.3403663635253906,0.33021217584609985,0.34750595688819885,0.36893776059150696,0.3405807912349701,0.3287481665611267,0.33115172386169434,0.35584521293640137,0.3292209208011627,0.35058751702308655,1.0,0.3171415627002716,0.3248254954814911,0.30873844027519226,0.2908278703689575,0.3704909086227417,0.3079080283641815,0.29855775833129883,0.3171415627002716,0.27342739701271057,0.291826993227005,1.0,0.3745519816875458,0.35695305466651917,1.0,0.3052847385406494,0.27903783321380615,0.28266584873199463,0.2689822316169739,0.3079080283641815,0.25431129336357117,0.2458048164844513,0.2977730929851532,0.28224068880081177],\"type\":\"scatter\"},{\"hoverinfo\":\"text\",\"hovertext\":[\"(0.3916821777820587, 1.0)\",\"(0.38663944602012634, 0.39416608214378357)\",\"(0.3653703033924103, 0.39416608214378357)\"],\"mode\":\"markers\",\"name\":\"H2\",\"x\":[0.3916821777820587,0.38663944602012634,0.3653703033924103],\"y\":[1.0,0.39416608214378357,0.39416608214378357],\"type\":\"scatter\"}],                        {\"template\":{\"data\":{\"histogram2dcontour\":[{\"type\":\"histogram2dcontour\",\"colorbar\":{\"outlinewidth\":0,\"ticks\":\"\"},\"colorscale\":[[0.0,\"#0d0887\"],[0.1111111111111111,\"#46039f\"],[0.2222222222222222,\"#7201a8\"],[0.3333333333333333,\"#9c179e\"],[0.4444444444444444,\"#bd3786\"],[0.5555555555555556,\"#d8576b\"],[0.6666666666666666,\"#ed7953\"],[0.7777777777777778,\"#fb9f3a\"],[0.8888888888888888,\"#fdca26\"],[1.0,\"#f0f921\"]]}],\"choropleth\":[{\"type\":\"choropleth\",\"colorbar\":{\"outlinewidth\":0,\"ticks\":\"\"}}],\"histogram2d\":[{\"type\":\"histogram2d\",\"colorbar\":{\"outlinewidth\":0,\"ticks\":\"\"},\"colorscale\":[[0.0,\"#0d0887\"],[0.1111111111111111,\"#46039f\"],[0.2222222222222222,\"#7201a8\"],[0.3333333333333333,\"#9c179e\"],[0.4444444444444444,\"#bd3786\"],[0.5555555555555556,\"#d8576b\"],[0.6666666666666666,\"#ed7953\"],[0.7777777777777778,\"#fb9f3a\"],[0.8888888888888888,\"#fdca26\"],[1.0,\"#f0f921\"]]}],\"heatmap\":[{\"type\":\"heatmap\",\"colorbar\":{\"outlinewidth\":0,\"ticks\":\"\"},\"colorscale\":[[0.0,\"#0d0887\"],[0.1111111111111111,\"#46039f\"],[0.2222222222222222,\"#7201a8\"],[0.3333333333333333,\"#9c179e\"],[0.4444444444444444,\"#bd3786\"],[0.5555555555555556,\"#d8576b\"],[0.6666666666666666,\"#ed7953\"],[0.7777777777777778,\"#fb9f3a\"],[0.8888888888888888,\"#fdca26\"],[1.0,\"#f0f921\"]]}],\"heatmapgl\":[{\"type\":\"heatmapgl\",\"colorbar\":{\"outlinewidth\":0,\"ticks\":\"\"},\"colorscale\":[[0.0,\"#0d0887\"],[0.1111111111111111,\"#46039f\"],[0.2222222222222222,\"#7201a8\"],[0.3333333333333333,\"#9c179e\"],[0.4444444444444444,\"#bd3786\"],[0.5555555555555556,\"#d8576b\"],[0.6666666666666666,\"#ed7953\"],[0.7777777777777778,\"#fb9f3a\"],[0.8888888888888888,\"#fdca26\"],[1.0,\"#f0f921\"]]}],\"contourcarpet\":[{\"type\":\"contourcarpet\",\"colorbar\":{\"outlinewidth\":0,\"ticks\":\"\"}}],\"contour\":[{\"type\":\"contour\",\"colorbar\":{\"outlinewidth\":0,\"ticks\":\"\"},\"colorscale\":[[0.0,\"#0d0887\"],[0.1111111111111111,\"#46039f\"],[0.2222222222222222,\"#7201a8\"],[0.3333333333333333,\"#9c179e\"],[0.4444444444444444,\"#bd3786\"],[0.5555555555555556,\"#d8576b\"],[0.6666666666666666,\"#ed7953\"],[0.7777777777777778,\"#fb9f3a\"],[0.8888888888888888,\"#fdca26\"],[1.0,\"#f0f921\"]]}],\"surface\":[{\"type\":\"surface\",\"colorbar\":{\"outlinewidth\":0,\"ticks\":\"\"},\"colorscale\":[[0.0,\"#0d0887\"],[0.1111111111111111,\"#46039f\"],[0.2222222222222222,\"#7201a8\"],[0.3333333333333333,\"#9c179e\"],[0.4444444444444444,\"#bd3786\"],[0.5555555555555556,\"#d8576b\"],[0.6666666666666666,\"#ed7953\"],[0.7777777777777778,\"#fb9f3a\"],[0.8888888888888888,\"#fdca26\"],[1.0,\"#f0f921\"]]}],\"mesh3d\":[{\"type\":\"mesh3d\",\"colorbar\":{\"outlinewidth\":0,\"ticks\":\"\"}}],\"scatter\":[{\"fillpattern\":{\"fillmode\":\"overlay\",\"size\":10,\"solidity\":0.2},\"type\":\"scatter\"}],\"parcoords\":[{\"type\":\"parcoords\",\"line\":{\"colorbar\":{\"outlinewidth\":0,\"ticks\":\"\"}}}],\"scatterpolargl\":[{\"type\":\"scatterpolargl\",\"marker\":{\"colorbar\":{\"outlinewidth\":0,\"ticks\":\"\"}}}],\"bar\":[{\"error_x\":{\"color\":\"#2a3f5f\"},\"error_y\":{\"color\":\"#2a3f5f\"},\"marker\":{\"line\":{\"color\":\"#E5ECF6\",\"width\":0.5},\"pattern\":{\"fillmode\":\"overlay\",\"size\":10,\"solidity\":0.2}},\"type\":\"bar\"}],\"scattergeo\":[{\"type\":\"scattergeo\",\"marker\":{\"colorbar\":{\"outlinewidth\":0,\"ticks\":\"\"}}}],\"scatterpolar\":[{\"type\":\"scatterpolar\",\"marker\":{\"colorbar\":{\"outlinewidth\":0,\"ticks\":\"\"}}}],\"histogram\":[{\"marker\":{\"pattern\":{\"fillmode\":\"overlay\",\"size\":10,\"solidity\":0.2}},\"type\":\"histogram\"}],\"scattergl\":[{\"type\":\"scattergl\",\"marker\":{\"colorbar\":{\"outlinewidth\":0,\"ticks\":\"\"}}}],\"scatter3d\":[{\"type\":\"scatter3d\",\"line\":{\"colorbar\":{\"outlinewidth\":0,\"ticks\":\"\"}},\"marker\":{\"colorbar\":{\"outlinewidth\":0,\"ticks\":\"\"}}}],\"scattermapbox\":[{\"type\":\"scattermapbox\",\"marker\":{\"colorbar\":{\"outlinewidth\":0,\"ticks\":\"\"}}}],\"scatterternary\":[{\"type\":\"scatterternary\",\"marker\":{\"colorbar\":{\"outlinewidth\":0,\"ticks\":\"\"}}}],\"scattercarpet\":[{\"type\":\"scattercarpet\",\"marker\":{\"colorbar\":{\"outlinewidth\":0,\"ticks\":\"\"}}}],\"carpet\":[{\"aaxis\":{\"endlinecolor\":\"#2a3f5f\",\"gridcolor\":\"white\",\"linecolor\":\"white\",\"minorgridcolor\":\"white\",\"startlinecolor\":\"#2a3f5f\"},\"baxis\":{\"endlinecolor\":\"#2a3f5f\",\"gridcolor\":\"white\",\"linecolor\":\"white\",\"minorgridcolor\":\"white\",\"startlinecolor\":\"#2a3f5f\"},\"type\":\"carpet\"}],\"table\":[{\"cells\":{\"fill\":{\"color\":\"#EBF0F8\"},\"line\":{\"color\":\"white\"}},\"header\":{\"fill\":{\"color\":\"#C8D4E3\"},\"line\":{\"color\":\"white\"}},\"type\":\"table\"}],\"barpolar\":[{\"marker\":{\"line\":{\"color\":\"#E5ECF6\",\"width\":0.5},\"pattern\":{\"fillmode\":\"overlay\",\"size\":10,\"solidity\":0.2}},\"type\":\"barpolar\"}],\"pie\":[{\"automargin\":true,\"type\":\"pie\"}]},\"layout\":{\"autotypenumbers\":\"strict\",\"colorway\":[\"#636efa\",\"#EF553B\",\"#00cc96\",\"#ab63fa\",\"#FFA15A\",\"#19d3f3\",\"#FF6692\",\"#B6E880\",\"#FF97FF\",\"#FECB52\"],\"font\":{\"color\":\"#2a3f5f\"},\"hovermode\":\"closest\",\"hoverlabel\":{\"align\":\"left\"},\"paper_bgcolor\":\"white\",\"plot_bgcolor\":\"#E5ECF6\",\"polar\":{\"bgcolor\":\"#E5ECF6\",\"angularaxis\":{\"gridcolor\":\"white\",\"linecolor\":\"white\",\"ticks\":\"\"},\"radialaxis\":{\"gridcolor\":\"white\",\"linecolor\":\"white\",\"ticks\":\"\"}},\"ternary\":{\"bgcolor\":\"#E5ECF6\",\"aaxis\":{\"gridcolor\":\"white\",\"linecolor\":\"white\",\"ticks\":\"\"},\"baxis\":{\"gridcolor\":\"white\",\"linecolor\":\"white\",\"ticks\":\"\"},\"caxis\":{\"gridcolor\":\"white\",\"linecolor\":\"white\",\"ticks\":\"\"}},\"coloraxis\":{\"colorbar\":{\"outlinewidth\":0,\"ticks\":\"\"}},\"colorscale\":{\"sequential\":[[0.0,\"#0d0887\"],[0.1111111111111111,\"#46039f\"],[0.2222222222222222,\"#7201a8\"],[0.3333333333333333,\"#9c179e\"],[0.4444444444444444,\"#bd3786\"],[0.5555555555555556,\"#d8576b\"],[0.6666666666666666,\"#ed7953\"],[0.7777777777777778,\"#fb9f3a\"],[0.8888888888888888,\"#fdca26\"],[1.0,\"#f0f921\"]],\"sequentialminus\":[[0.0,\"#0d0887\"],[0.1111111111111111,\"#46039f\"],[0.2222222222222222,\"#7201a8\"],[0.3333333333333333,\"#9c179e\"],[0.4444444444444444,\"#bd3786\"],[0.5555555555555556,\"#d8576b\"],[0.6666666666666666,\"#ed7953\"],[0.7777777777777778,\"#fb9f3a\"],[0.8888888888888888,\"#fdca26\"],[1.0,\"#f0f921\"]],\"diverging\":[[0,\"#8e0152\"],[0.1,\"#c51b7d\"],[0.2,\"#de77ae\"],[0.3,\"#f1b6da\"],[0.4,\"#fde0ef\"],[0.5,\"#f7f7f7\"],[0.6,\"#e6f5d0\"],[0.7,\"#b8e186\"],[0.8,\"#7fbc41\"],[0.9,\"#4d9221\"],[1,\"#276419\"]]},\"xaxis\":{\"gridcolor\":\"white\",\"linecolor\":\"white\",\"ticks\":\"\",\"title\":{\"standoff\":15},\"zerolinecolor\":\"white\",\"automargin\":true,\"zerolinewidth\":2},\"yaxis\":{\"gridcolor\":\"white\",\"linecolor\":\"white\",\"ticks\":\"\",\"title\":{\"standoff\":15},\"zerolinecolor\":\"white\",\"automargin\":true,\"zerolinewidth\":2},\"scene\":{\"xaxis\":{\"backgroundcolor\":\"#E5ECF6\",\"gridcolor\":\"white\",\"linecolor\":\"white\",\"showbackground\":true,\"ticks\":\"\",\"zerolinecolor\":\"white\",\"gridwidth\":2},\"yaxis\":{\"backgroundcolor\":\"#E5ECF6\",\"gridcolor\":\"white\",\"linecolor\":\"white\",\"showbackground\":true,\"ticks\":\"\",\"zerolinecolor\":\"white\",\"gridwidth\":2},\"zaxis\":{\"backgroundcolor\":\"#E5ECF6\",\"gridcolor\":\"white\",\"linecolor\":\"white\",\"showbackground\":true,\"ticks\":\"\",\"zerolinecolor\":\"white\",\"gridwidth\":2}},\"shapedefaults\":{\"line\":{\"color\":\"#2a3f5f\"}},\"annotationdefaults\":{\"arrowcolor\":\"#2a3f5f\",\"arrowhead\":0,\"arrowwidth\":1},\"geo\":{\"bgcolor\":\"white\",\"landcolor\":\"#E5ECF6\",\"subunitcolor\":\"white\",\"showland\":true,\"showlakes\":true,\"lakecolor\":\"white\"},\"title\":{\"x\":0.05},\"mapbox\":{\"style\":\"light\"}}},\"xaxis\":{\"title\":{\"text\":\"Birth\"},\"side\":\"bottom\",\"type\":\"linear\",\"range\":[0.19853407114744187,1.0157150182127952],\"autorange\":false,\"ticks\":\"outside\",\"showline\":true,\"zeroline\":true,\"linewidth\":1,\"linecolor\":\"black\",\"mirror\":false,\"showexponent\":\"all\",\"exponentformat\":\"e\"},\"yaxis\":{\"title\":{\"text\":\"Death\"},\"side\":\"left\",\"type\":\"linear\",\"range\":[0.19853407114744187,1.0157150182127952],\"autorange\":false,\"scaleanchor\":\"x\",\"scaleratio\":1,\"ticks\":\"outside\",\"showline\":true,\"zeroline\":true,\"linewidth\":1,\"linecolor\":\"black\",\"mirror\":false,\"showexponent\":\"all\",\"exponentformat\":\"e\"},\"width\":500,\"height\":500,\"plot_bgcolor\":\"white\"},                        {\"responsive\": true}                    ).then(function(){\n",
              "                            \n",
              "var gd = document.getElementById('e9e57475-768e-4891-b1c8-e281e688465c');\n",
              "var x = new MutationObserver(function (mutations, observer) {{\n",
              "        var display = window.getComputedStyle(gd).display;\n",
              "        if (!display || display === 'none') {{\n",
              "            console.log([gd, 'removed!']);\n",
              "            Plotly.purge(gd);\n",
              "            observer.disconnect();\n",
              "        }}\n",
              "}});\n",
              "\n",
              "// Listen for the removal of the full notebook cells\n",
              "var notebookContainer = gd.closest('#notebook-container');\n",
              "if (notebookContainer) {{\n",
              "    x.observe(notebookContainer, {childList: true});\n",
              "}}\n",
              "\n",
              "// Listen for the clearing of the current output cell\n",
              "var outputEl = gd.closest('.output');\n",
              "if (outputEl) {{\n",
              "    x.observe(outputEl, {childList: true});\n",
              "}}\n",
              "\n",
              "                        })                };                            </script>        </div>\n",
              "</body>\n",
              "</html>"
            ]
          },
          "metadata": {},
          "output_type": "display_data"
        }
      ],
      "source": [
        "from gtda.homology import VietorisRipsPersistence\n",
        "from gtda.plotting import plot_diagram\n",
        "\n",
        "def pers_diagram(data, n_homologies):\n",
        "    homology_dimensions = [_ for _ in range(n_homologies)]\n",
        "\n",
        "    persistence = VietorisRipsPersistence(\n",
        "        homology_dimensions=homology_dimensions,\n",
        "        n_jobs=6,\n",
        "        metric=\"precomputed\"\n",
        "    )\n",
        "    diagram = persistence.fit_transform(data)\n",
        "    # diagram = diagram[~np.any(diagram == np.inf, axis=2)][np.newaxis, :, :]\n",
        "    return diagram\n",
        "plot_diagram(pers_diagram(corr_array, 3)[0])"
      ]
    },
    {
      "cell_type": "markdown",
      "metadata": {
        "id": "HXKTHl9Wfmpe"
      },
      "source": [
        "### Делаем диаграммы устойчивости для каждого пациента rs_0 и rs_fe  и загружаем на диск"
      ]
    },
    {
      "cell_type": "code",
      "execution_count": null,
      "metadata": {
        "id": "t4SF1_hQIhiT"
      },
      "outputs": [],
      "source": [
        "param = 0.6\n",
        "def get_diagrams_array(param: int, n_hom: int):\n",
        "    X = []\n",
        "    for i in range(1, 24):\n",
        "        filename = f'/content/drive/MyDrive/hse/kursach1/human fmri/human fmri exp rs_0 vs. fe merged p{i}.npz'\n",
        "        rs_0, rs_fe = file_to_array(filename)\n",
        "        corr_rs_0 = corr_matrix(rs_0, param)\n",
        "        corr_rs_fe = corr_matrix(rs_fe, param)\n",
        "\n",
        "        rs_0_persistent = pers_diagram(corr_rs_0, n_hom)[:, :, :2]\n",
        "        rs_fe_persistent = pers_diagram(corr_rs_fe, n_hom)[:, :, :2]\n",
        "\n",
        "        X.append(rs_0_persistent)\n",
        "        X.append(rs_fe_persistent)\n",
        "        # print(f\"level {i} completed!\")\n",
        "    for i in range(0, 46):\n",
        "        X[i] = np.delete(X[i], np.where(X[i] == [0., 0.]), axis=1)\n",
        "    return X\n",
        "\n",
        "# X = get_diagrams_array(param, 3)\n"
      ]
    },
    {
      "cell_type": "markdown",
      "metadata": {
        "id": "eYCm7O4Hf7oq"
      },
      "source": [
        "Сохраняю в виде .npz на диске"
      ]
    },
    {
      "cell_type": "code",
      "execution_count": null,
      "metadata": {
        "colab": {
          "base_uri": "https://localhost:8080/"
        },
        "id": "vRwSPiRXxunX",
        "outputId": "fd2afdfc-71a5-43d7-c709-f0aa86f21ff8"
      },
      "outputs": [
        {
          "name": "stdout",
          "output_type": "stream",
          "text": [
            "(1, 62, 2)\n",
            "(1, 41, 2)\n",
            "(1, 116, 2)\n",
            "(1, 100, 2)\n",
            "(1, 77, 2)\n",
            "(1, 98, 2)\n",
            "(1, 74, 2)\n",
            "(1, 105, 2)\n",
            "(1, 131, 2)\n",
            "(1, 90, 2)\n",
            "(1, 74, 2)\n",
            "(1, 46, 2)\n",
            "(1, 149, 2)\n",
            "(1, 125, 2)\n",
            "(1, 131, 2)\n",
            "(1, 136, 2)\n",
            "(1, 104, 2)\n",
            "(1, 113, 2)\n",
            "(1, 58, 2)\n",
            "(1, 86, 2)\n",
            "(1, 66, 2)\n",
            "(1, 34, 2)\n",
            "(1, 92, 2)\n",
            "(1, 110, 2)\n",
            "(1, 67, 2)\n",
            "(1, 112, 2)\n",
            "(1, 103, 2)\n",
            "(1, 52, 2)\n",
            "(1, 93, 2)\n",
            "(1, 52, 2)\n",
            "(1, 142, 2)\n",
            "(1, 105, 2)\n",
            "(1, 96, 2)\n",
            "(1, 65, 2)\n",
            "(1, 94, 2)\n",
            "(1, 45, 2)\n",
            "(1, 63, 2)\n",
            "(1, 16, 2)\n",
            "(1, 112, 2)\n",
            "(1, 117, 2)\n",
            "(1, 111, 2)\n",
            "(1, 100, 2)\n",
            "(1, 138, 2)\n",
            "(1, 95, 2)\n",
            "(1, 65, 2)\n",
            "(1, 59, 2)\n"
          ]
        },
        {
          "data": {
            "text/plain": [
              "(1, 59, 2)"
            ]
          },
          "execution_count": 10,
          "metadata": {},
          "output_type": "execute_result"
        }
      ],
      "source": [
        "# для [1 - corr_array]\n",
        "for i in range(0, 46):\n",
        "  X[i] = np.delete(X[i], np.where(X[i] == [0., 0.]), axis=1)\n",
        "  # X[i] = X[i][:, 1:, :]\n",
        "  print(X[i].shape)\n",
        "X[i].shape"
      ]
    },
    {
      "cell_type": "code",
      "execution_count": null,
      "metadata": {
        "colab": {
          "base_uri": "https://localhost:8080/"
        },
        "id": "GVMv4nFUWG2K",
        "outputId": "83f3aa03-ce66-43d2-ed7a-6c8c67af6e43"
      },
      "outputs": [
        {
          "name": "stdout",
          "output_type": "stream",
          "text": [
            "(1, 62, 2)\n",
            "(1, 116, 2)\n",
            "(1, 77, 2)\n",
            "(1, 74, 2)\n",
            "(1, 131, 2)\n",
            "(1, 74, 2)\n",
            "(1, 149, 2)\n",
            "(1, 131, 2)\n",
            "(1, 104, 2)\n",
            "(1, 58, 2)\n",
            "(1, 66, 2)\n",
            "(1, 92, 2)\n",
            "(1, 67, 2)\n",
            "(1, 103, 2)\n",
            "(1, 93, 2)\n",
            "(1, 142, 2)\n",
            "(1, 96, 2)\n",
            "(1, 94, 2)\n",
            "(1, 63, 2)\n",
            "(1, 112, 2)\n",
            "(1, 111, 2)\n",
            "(1, 138, 2)\n",
            "(1, 65, 2)\n"
          ]
        }
      ],
      "source": [
        "import numpy as np\n",
        "for i in range(0, 46, 2):\n",
        "  np.savez(f'/content/drive/MyDrive/hse/kursach1/results/pers diagram rs_0 p{i // 2 + 1}.npz', X[i])\n",
        "  np.savez(f'/content/drive/MyDrive/hse/kursach1/results/pers diagram rs_fe p{i // 2 + 1}.npz', X[i + 1])\n",
        "  print(X[i].shape)"
      ]
    },
    {
      "cell_type": "markdown",
      "metadata": {
        "id": "axhhF2Mfgc7n"
      },
      "source": [
        "### Загружаем диаграммы устойчивости с диска"
      ]
    },
    {
      "cell_type": "code",
      "execution_count": null,
      "metadata": {
        "colab": {
          "base_uri": "https://localhost:8080/"
        },
        "id": "ISvG1POLghqD",
        "outputId": "dc58f2ed-70e3-495b-f858-d0fbfd5413c9"
      },
      "outputs": [
        {
          "data": {
            "text/plain": [
              "46"
            ]
          },
          "execution_count": 60,
          "metadata": {},
          "output_type": "execute_result"
        }
      ],
      "source": [
        "X = []\n",
        "\n",
        "def load_data(filename):\n",
        "  archive = load(filename)\n",
        "  files = archive.files\n",
        "  array = archive['arr_0']\n",
        "  return array\n",
        "\n",
        "for i in range(0, 46, 2):\n",
        "  rs_0 = load_data(f'/content/drive/MyDrive/hse/kursach1/results/pers diagram rs_0 p{i // 2 + 1}.npz')\n",
        "  rs_fe = load_data(f'/content/drive/MyDrive/hse/kursach1/results/pers diagram rs_fe p{i // 2 + 1}.npz')\n",
        "  X.append(rs_0)\n",
        "  X.append(rs_fe)\n",
        "\n",
        "len(X)"
      ]
    },
    {
      "cell_type": "code",
      "execution_count": null,
      "metadata": {
        "colab": {
          "base_uri": "https://localhost:8080/"
        },
        "id": "iNJB_u4I0TqP",
        "outputId": "ddab6bc2-2099-4bc8-c64b-1eabfd4d0812"
      },
      "outputs": [
        {
          "name": "stdout",
          "output_type": "stream",
          "text": [
            "(1, 38, 2)\n",
            "(1, 30, 2)\n",
            "(1, 90, 2)\n",
            "(1, 70, 2)\n",
            "(1, 59, 2)\n",
            "(1, 62, 2)\n",
            "(1, 46, 2)\n",
            "(1, 73, 2)\n",
            "(1, 95, 2)\n",
            "(1, 66, 2)\n",
            "(1, 59, 2)\n",
            "(1, 23, 2)\n",
            "(1, 108, 2)\n",
            "(1, 95, 2)\n",
            "(1, 99, 2)\n",
            "(1, 98, 2)\n",
            "(1, 78, 2)\n",
            "(1, 85, 2)\n",
            "(1, 42, 2)\n",
            "(1, 50, 2)\n",
            "(1, 47, 2)\n",
            "(1, 20, 2)\n",
            "(1, 62, 2)\n",
            "(1, 84, 2)\n",
            "(1, 57, 2)\n",
            "(1, 81, 2)\n",
            "(1, 75, 2)\n",
            "(1, 28, 2)\n",
            "(1, 70, 2)\n",
            "(1, 45, 2)\n",
            "(1, 106, 2)\n",
            "(1, 88, 2)\n",
            "(1, 71, 2)\n",
            "(1, 46, 2)\n",
            "(1, 73, 2)\n",
            "(1, 30, 2)\n",
            "(1, 41, 2)\n",
            "(1, 15, 2)\n",
            "(1, 81, 2)\n",
            "(1, 96, 2)\n",
            "(1, 87, 2)\n",
            "(1, 63, 2)\n",
            "(1, 95, 2)\n",
            "(1, 70, 2)\n",
            "(1, 44, 2)\n",
            "(1, 37, 2)\n"
          ]
        }
      ],
      "source": [
        "for i in range(46):\n",
        "  print(X[i].shape)"
      ]
    },
    {
      "cell_type": "markdown",
      "metadata": {
        "id": "J83BfeWZ9rm7"
      },
      "source": [
        "### K-means\n"
      ]
    },
    {
      "cell_type": "code",
      "execution_count": null,
      "metadata": {
        "colab": {
          "base_uri": "https://localhost:8080/"
        },
        "id": "-4qvU5R69van",
        "outputId": "75d82420-9f50-41af-d481-8f6b40982d33"
      },
      "outputs": [
        {
          "name": "stdout",
          "output_type": "stream",
          "text": [
            "CPU times: user 81 µs, sys: 0 ns, total: 81 µs\n",
            "Wall time: 85.4 µs\n"
          ]
        }
      ],
      "source": [
        "%%time\n",
        "import numpy as np\n",
        "from sklearn.datasets import make_blobs\n",
        "from gudhi.wasserstein import wasserstein_distance\n",
        "from gudhi.wasserstein.barycenter import lagrangian_barycenter\n",
        "import time\n",
        "\n",
        "class KMeans:\n",
        "    def __init__(self, n_clusters=2, max_iters=10):\n",
        "        self.n_clusters = n_clusters\n",
        "        self.max_iters = max_iters\n",
        "\n",
        "    def wasserstein(self, diagram):\n",
        "        # Compute Wasswrstein distance from first and second centroid to diagram\n",
        "        return [wasserstein_distance(diagram[0], self.centroids[0][0]), wasserstein_distance(diagram[0], self.centroids[1][0])]\n",
        "\n",
        "    def match_centroids(self, new_centroids):\n",
        "        return (new_centroids[0].shape == self.centroids[0].shape or new_centroids[0].shape == self.centroids[1].shape) \\\n",
        "        and (new_centroids[1].shape == self.centroids[1].shape or new_centroids[1].shape == self.centroids[0].shape) \\\n",
        "        and np.all([new_centroids[0], self.centroids[0]]) and np.all([new_centroids[1], self.centroids[1]])\n",
        "\n",
        "    def fit(self, X):\n",
        "        answers = np.zeros(len(X))\n",
        "        answers[::2] = 1\n",
        "        # Initialize centroids randomly\n",
        "        c1, c2 = np.random.choice(len(X), self.n_clusters, replace=False)\n",
        "        self.centroids = [X[c1], X[c2]]\n",
        "\n",
        "        for _ in range(self.max_iters):\n",
        "            # print(f'Starting iteration {_ + 1}')\n",
        "            # Assign each data point to the nearest centroid\n",
        "            labels = self.assign_labels(X)\n",
        "\n",
        "            # Update centroids\n",
        "            new_centroids = self.update_centroids(X, labels)\n",
        "\n",
        "            matches = max(np.sum(answers == labels), np.sum(1 - answers == labels))\n",
        "\n",
        "            # print(f'{(matches / len(X)) * 100}% match after updating centroids\\n')\n",
        "\n",
        "            if self.match_centroids(new_centroids):\n",
        "              return\n",
        "\n",
        "            self.centroids = new_centroids\n",
        "\n",
        "    def assign_labels(self, X):\n",
        "        # Compute wasserstein distances from each data point to centroids\n",
        "        distances = np.array(list(map(self.wasserstein, X)))\n",
        "        # Assign labels based on the nearest centroid\n",
        "        return np.argmin(distances, axis=1)\n",
        "\n",
        "    def update_centroids(self, X, labels):\n",
        "        # Regroup diagrams\n",
        "        groups = [[] for _ in range(self.n_clusters)]\n",
        "        for i in range(len(labels)):\n",
        "            groups[labels[i]].append(X[i][0])\n",
        "\n",
        "        # for i in range(self.n_clusters):\n",
        "        #     print(f'Size of {i} cluster is {len(groups[i])}')\n",
        "        # # Compute new barycenters\n",
        "        new_centroids = []\n",
        "        for i in range(self.n_clusters):\n",
        "            # print('Computing barycenter...')\n",
        "            centroid = lagrangian_barycenter(pdiagset=groups[i])[np.newaxis, :, :]\n",
        "            new_centroids.append(centroid)\n",
        "\n",
        "        return new_centroids\n",
        "\n",
        "def cluster(X: np.array, n: int):\n",
        "    start = time.time()\n",
        "\n",
        "    kmeans = KMeans(2, 10)\n",
        "    kmeans.fit(X)\n",
        "    labels = kmeans.assign_labels(X)\n",
        "\n",
        "    end = time.time() - start\n",
        "\n",
        "    return labels\n",
        "# print(\"Centroids:\", kmeans.centroids)"
      ]
    },
    {
      "cell_type": "code",
      "execution_count": null,
      "metadata": {
        "colab": {
          "base_uri": "https://localhost:8080/"
        },
        "id": "Df3riMuEG1pA",
        "outputId": "8f66f50e-3b80-4871-8fca-54512271381c"
      },
      "outputs": [
        {
          "name": "stderr",
          "output_type": "stream",
          "text": [
            "<ipython-input-27-c6320d82251c>:22: FutureWarning:\n",
            "\n",
            "The frame.append method is deprecated and will be removed from pandas in a future version. Use pandas.concat instead.\n",
            "\n"
          ]
        },
        {
          "name": "stdout",
          "output_type": "stream",
          "text": [
            "homology 2 with parameter 0.6 done\n"
          ]
        },
        {
          "name": "stderr",
          "output_type": "stream",
          "text": [
            "<ipython-input-27-c6320d82251c>:22: FutureWarning:\n",
            "\n",
            "The frame.append method is deprecated and will be removed from pandas in a future version. Use pandas.concat instead.\n",
            "\n"
          ]
        },
        {
          "name": "stdout",
          "output_type": "stream",
          "text": [
            "homology 3 with parameter 0.6 done\n"
          ]
        },
        {
          "name": "stderr",
          "output_type": "stream",
          "text": [
            "<ipython-input-27-c6320d82251c>:22: FutureWarning:\n",
            "\n",
            "The frame.append method is deprecated and will be removed from pandas in a future version. Use pandas.concat instead.\n",
            "\n"
          ]
        },
        {
          "name": "stdout",
          "output_type": "stream",
          "text": [
            "homology 2 with parameter 0.65 done\n"
          ]
        },
        {
          "name": "stderr",
          "output_type": "stream",
          "text": [
            "<ipython-input-27-c6320d82251c>:22: FutureWarning:\n",
            "\n",
            "The frame.append method is deprecated and will be removed from pandas in a future version. Use pandas.concat instead.\n",
            "\n"
          ]
        },
        {
          "name": "stdout",
          "output_type": "stream",
          "text": [
            "homology 3 with parameter 0.65 done\n"
          ]
        },
        {
          "name": "stderr",
          "output_type": "stream",
          "text": [
            "<ipython-input-27-c6320d82251c>:22: FutureWarning:\n",
            "\n",
            "The frame.append method is deprecated and will be removed from pandas in a future version. Use pandas.concat instead.\n",
            "\n"
          ]
        },
        {
          "name": "stdout",
          "output_type": "stream",
          "text": [
            "homology 2 with parameter 0.7 done\n"
          ]
        },
        {
          "name": "stderr",
          "output_type": "stream",
          "text": [
            "<ipython-input-27-c6320d82251c>:22: FutureWarning:\n",
            "\n",
            "The frame.append method is deprecated and will be removed from pandas in a future version. Use pandas.concat instead.\n",
            "\n"
          ]
        },
        {
          "name": "stdout",
          "output_type": "stream",
          "text": [
            "homology 3 with parameter 0.7 done\n"
          ]
        },
        {
          "name": "stderr",
          "output_type": "stream",
          "text": [
            "<ipython-input-27-c6320d82251c>:22: FutureWarning:\n",
            "\n",
            "The frame.append method is deprecated and will be removed from pandas in a future version. Use pandas.concat instead.\n",
            "\n"
          ]
        },
        {
          "name": "stdout",
          "output_type": "stream",
          "text": [
            "homology 2 with parameter 0.75 done\n"
          ]
        },
        {
          "name": "stderr",
          "output_type": "stream",
          "text": [
            "<ipython-input-27-c6320d82251c>:22: FutureWarning:\n",
            "\n",
            "The frame.append method is deprecated and will be removed from pandas in a future version. Use pandas.concat instead.\n",
            "\n"
          ]
        },
        {
          "name": "stdout",
          "output_type": "stream",
          "text": [
            "homology 3 with parameter 0.75 done\n"
          ]
        },
        {
          "name": "stderr",
          "output_type": "stream",
          "text": [
            "<ipython-input-27-c6320d82251c>:22: FutureWarning:\n",
            "\n",
            "The frame.append method is deprecated and will be removed from pandas in a future version. Use pandas.concat instead.\n",
            "\n"
          ]
        },
        {
          "name": "stdout",
          "output_type": "stream",
          "text": [
            "homology 2 with parameter 0.8 done\n",
            "homology 3 with parameter 0.8 done\n"
          ]
        },
        {
          "name": "stderr",
          "output_type": "stream",
          "text": [
            "<ipython-input-27-c6320d82251c>:22: FutureWarning:\n",
            "\n",
            "The frame.append method is deprecated and will be removed from pandas in a future version. Use pandas.concat instead.\n",
            "\n"
          ]
        }
      ],
      "source": [
        "import pandas as pd\n",
        "\n",
        "parameters = [0.6, 0.65, 0.7, 0.75, 0.8]\n",
        "number_of_homologies = [2, 3]\n",
        "\n",
        "df = pd.DataFrame({'n_homologies': [], 'corr_param': [], 'labels': [], 'percentage': []})\n",
        "\n",
        "def get_percentage(labels: np.array) -> int:\n",
        "    answers = np.zeros(len(labels))\n",
        "    answers[::2] = 1\n",
        "    matches = max(np.sum(answers == labels), np.sum(1 - answers == labels))\n",
        "\n",
        "    return (matches / len(labels)) * 100\n",
        "\n",
        "\n",
        "for param in parameters:\n",
        "    for n_hom in number_of_homologies:\n",
        "        X = get_diagrams_array(param, n_hom)\n",
        "        labels = cluster(X, 10)\n",
        "        labels_str = ' '.join([str(int(label)) for label in labels])\n",
        "        new_row = {'n_homologies': n_hom, 'corr_param': param, 'labels': labels_str, 'percentage': get_percentage(labels)}\n",
        "        df = df.append(new_row, ignore_index=True)\n",
        "        print(f'homology {n_hom} with parameter {param} done')\n",
        "\n"
      ]
    },
    {
      "cell_type": "code",
      "execution_count": null,
      "metadata": {
        "colab": {
          "base_uri": "https://localhost:8080/",
          "height": 359
        },
        "id": "J6llcdbqayHS",
        "outputId": "bd65099c-1219-4a9e-c6ce-1d5c9d7cdb2b"
      },
      "outputs": [
        {
          "data": {
            "application/vnd.google.colaboratory.intrinsic+json": {
              "summary": "{\n  \"name\": \"df\",\n  \"rows\": 10,\n  \"fields\": [\n    {\n      \"column\": \"n_homologies\",\n      \"properties\": {\n        \"dtype\": \"number\",\n        \"std\": 0.5270462766947299,\n        \"min\": 2.0,\n        \"max\": 3.0,\n        \"num_unique_values\": 2,\n        \"samples\": [\n          3.0,\n          2.0\n        ],\n        \"semantic_type\": \"\",\n        \"description\": \"\"\n      }\n    },\n    {\n      \"column\": \"corr_param\",\n      \"properties\": {\n        \"dtype\": \"number\",\n        \"std\": 0.074535599249993,\n        \"min\": 0.6,\n        \"max\": 0.8,\n        \"num_unique_values\": 5,\n        \"samples\": [\n          0.65,\n          0.8\n        ],\n        \"semantic_type\": \"\",\n        \"description\": \"\"\n      }\n    },\n    {\n      \"column\": \"labels\",\n      \"properties\": {\n        \"dtype\": \"string\",\n        \"num_unique_values\": 10,\n        \"samples\": [\n          \"1 1 1 1 1 1 1 1 1 1 1 1 0 0 0 0 0 0 1 0 1 1 1 1 0 1 1 1 1 1 0 0 0 1 1 1 1 1 1 0 1 1 0 1 1 1\",\n          \"1 0 1 1 1 1 1 1 0 1 1 1 0 0 0 0 0 0 0 1 1 1 1 0 0 0 0 1 1 0 0 0 0 1 0 1 0 0 1 0 0 1 1 0 1 1\"\n        ],\n        \"semantic_type\": \"\",\n        \"description\": \"\"\n      }\n    },\n    {\n      \"column\": \"percentage\",\n      \"properties\": {\n        \"dtype\": \"number\",\n        \"std\": 5.041312211862636,\n        \"min\": 52.17391304347826,\n        \"max\": 65.21739130434783,\n        \"num_unique_values\": 5,\n        \"samples\": [\n          52.17391304347826,\n          65.21739130434783\n        ],\n        \"semantic_type\": \"\",\n        \"description\": \"\"\n      }\n    }\n  ]\n}",
              "type": "dataframe",
              "variable_name": "df"
            },
            "text/html": [
              "\n",
              "  <div id=\"df-47cfde68-ed0a-42f2-9176-81b6e10bbae9\" class=\"colab-df-container\">\n",
              "    <div>\n",
              "<style scoped>\n",
              "    .dataframe tbody tr th:only-of-type {\n",
              "        vertical-align: middle;\n",
              "    }\n",
              "\n",
              "    .dataframe tbody tr th {\n",
              "        vertical-align: top;\n",
              "    }\n",
              "\n",
              "    .dataframe thead th {\n",
              "        text-align: right;\n",
              "    }\n",
              "</style>\n",
              "<table border=\"1\" class=\"dataframe\">\n",
              "  <thead>\n",
              "    <tr style=\"text-align: right;\">\n",
              "      <th></th>\n",
              "      <th>n_homologies</th>\n",
              "      <th>corr_param</th>\n",
              "      <th>labels</th>\n",
              "      <th>percentage</th>\n",
              "    </tr>\n",
              "  </thead>\n",
              "  <tbody>\n",
              "    <tr>\n",
              "      <th>0</th>\n",
              "      <td>2.0</td>\n",
              "      <td>0.60</td>\n",
              "      <td>1 0 0 1 1 1 1 1 0 1 1 1 0 0 0 0 0 0 0 1 1 1 1 ...</td>\n",
              "      <td>56.521739</td>\n",
              "    </tr>\n",
              "    <tr>\n",
              "      <th>1</th>\n",
              "      <td>3.0</td>\n",
              "      <td>0.60</td>\n",
              "      <td>1 0 1 1 1 1 1 1 0 1 1 1 0 0 0 0 0 0 0 1 1 1 1 ...</td>\n",
              "      <td>52.173913</td>\n",
              "    </tr>\n",
              "    <tr>\n",
              "      <th>2</th>\n",
              "      <td>2.0</td>\n",
              "      <td>0.65</td>\n",
              "      <td>1 1 0 0 0 0 0 0 1 0 0 1 1 1 1 1 1 1 1 1 0 1 0 ...</td>\n",
              "      <td>58.695652</td>\n",
              "    </tr>\n",
              "    <tr>\n",
              "      <th>3</th>\n",
              "      <td>3.0</td>\n",
              "      <td>0.65</td>\n",
              "      <td>0 0 1 1 1 1 1 1 1 1 1 0 1 1 1 0 0 0 0 0 1 0 1 ...</td>\n",
              "      <td>63.043478</td>\n",
              "    </tr>\n",
              "    <tr>\n",
              "      <th>4</th>\n",
              "      <td>2.0</td>\n",
              "      <td>0.70</td>\n",
              "      <td>0 0 1 1 1 1 1 1 1 1 1 0 1 1 1 0 0 0 0 0 1 0 0 ...</td>\n",
              "      <td>65.217391</td>\n",
              "    </tr>\n",
              "    <tr>\n",
              "      <th>5</th>\n",
              "      <td>3.0</td>\n",
              "      <td>0.70</td>\n",
              "      <td>0 0 1 1 1 1 1 1 1 1 1 0 1 1 1 0 0 0 0 0 1 0 0 ...</td>\n",
              "      <td>63.043478</td>\n",
              "    </tr>\n",
              "    <tr>\n",
              "      <th>6</th>\n",
              "      <td>2.0</td>\n",
              "      <td>0.75</td>\n",
              "      <td>1 1 0 1 1 1 1 1 0 1 1 1 0 0 0 0 0 0 1 1 1 1 1 ...</td>\n",
              "      <td>65.217391</td>\n",
              "    </tr>\n",
              "    <tr>\n",
              "      <th>7</th>\n",
              "      <td>3.0</td>\n",
              "      <td>0.75</td>\n",
              "      <td>0 0 1 0 0 0 0 0 1 0 0 0 1 1 1 1 1 1 0 0 0 0 0 ...</td>\n",
              "      <td>63.043478</td>\n",
              "    </tr>\n",
              "    <tr>\n",
              "      <th>8</th>\n",
              "      <td>2.0</td>\n",
              "      <td>0.80</td>\n",
              "      <td>1 1 1 1 1 1 1 1 1 1 1 1 0 0 0 0 0 0 1 0 1 1 1 ...</td>\n",
              "      <td>52.173913</td>\n",
              "    </tr>\n",
              "    <tr>\n",
              "      <th>9</th>\n",
              "      <td>3.0</td>\n",
              "      <td>0.80</td>\n",
              "      <td>1 1 1 1 1 1 1 1 1 1 1 1 0 0 0 0 0 1 1 1 1 1 1 ...</td>\n",
              "      <td>56.521739</td>\n",
              "    </tr>\n",
              "  </tbody>\n",
              "</table>\n",
              "</div>\n",
              "    <div class=\"colab-df-buttons\">\n",
              "\n",
              "  <div class=\"colab-df-container\">\n",
              "    <button class=\"colab-df-convert\" onclick=\"convertToInteractive('df-47cfde68-ed0a-42f2-9176-81b6e10bbae9')\"\n",
              "            title=\"Convert this dataframe to an interactive table.\"\n",
              "            style=\"display:none;\">\n",
              "\n",
              "  <svg xmlns=\"http://www.w3.org/2000/svg\" height=\"24px\" viewBox=\"0 -960 960 960\">\n",
              "    <path d=\"M120-120v-720h720v720H120Zm60-500h600v-160H180v160Zm220 220h160v-160H400v160Zm0 220h160v-160H400v160ZM180-400h160v-160H180v160Zm440 0h160v-160H620v160ZM180-180h160v-160H180v160Zm440 0h160v-160H620v160Z\"/>\n",
              "  </svg>\n",
              "    </button>\n",
              "\n",
              "  <style>\n",
              "    .colab-df-container {\n",
              "      display:flex;\n",
              "      gap: 12px;\n",
              "    }\n",
              "\n",
              "    .colab-df-convert {\n",
              "      background-color: #E8F0FE;\n",
              "      border: none;\n",
              "      border-radius: 50%;\n",
              "      cursor: pointer;\n",
              "      display: none;\n",
              "      fill: #1967D2;\n",
              "      height: 32px;\n",
              "      padding: 0 0 0 0;\n",
              "      width: 32px;\n",
              "    }\n",
              "\n",
              "    .colab-df-convert:hover {\n",
              "      background-color: #E2EBFA;\n",
              "      box-shadow: 0px 1px 2px rgba(60, 64, 67, 0.3), 0px 1px 3px 1px rgba(60, 64, 67, 0.15);\n",
              "      fill: #174EA6;\n",
              "    }\n",
              "\n",
              "    .colab-df-buttons div {\n",
              "      margin-bottom: 4px;\n",
              "    }\n",
              "\n",
              "    [theme=dark] .colab-df-convert {\n",
              "      background-color: #3B4455;\n",
              "      fill: #D2E3FC;\n",
              "    }\n",
              "\n",
              "    [theme=dark] .colab-df-convert:hover {\n",
              "      background-color: #434B5C;\n",
              "      box-shadow: 0px 1px 3px 1px rgba(0, 0, 0, 0.15);\n",
              "      filter: drop-shadow(0px 1px 2px rgba(0, 0, 0, 0.3));\n",
              "      fill: #FFFFFF;\n",
              "    }\n",
              "  </style>\n",
              "\n",
              "    <script>\n",
              "      const buttonEl =\n",
              "        document.querySelector('#df-47cfde68-ed0a-42f2-9176-81b6e10bbae9 button.colab-df-convert');\n",
              "      buttonEl.style.display =\n",
              "        google.colab.kernel.accessAllowed ? 'block' : 'none';\n",
              "\n",
              "      async function convertToInteractive(key) {\n",
              "        const element = document.querySelector('#df-47cfde68-ed0a-42f2-9176-81b6e10bbae9');\n",
              "        const dataTable =\n",
              "          await google.colab.kernel.invokeFunction('convertToInteractive',\n",
              "                                                    [key], {});\n",
              "        if (!dataTable) return;\n",
              "\n",
              "        const docLinkHtml = 'Like what you see? Visit the ' +\n",
              "          '<a target=\"_blank\" href=https://colab.research.google.com/notebooks/data_table.ipynb>data table notebook</a>'\n",
              "          + ' to learn more about interactive tables.';\n",
              "        element.innerHTML = '';\n",
              "        dataTable['output_type'] = 'display_data';\n",
              "        await google.colab.output.renderOutput(dataTable, element);\n",
              "        const docLink = document.createElement('div');\n",
              "        docLink.innerHTML = docLinkHtml;\n",
              "        element.appendChild(docLink);\n",
              "      }\n",
              "    </script>\n",
              "  </div>\n",
              "\n",
              "\n",
              "<div id=\"df-804d8100-0448-460a-8696-0e95873c65f5\">\n",
              "  <button class=\"colab-df-quickchart\" onclick=\"quickchart('df-804d8100-0448-460a-8696-0e95873c65f5')\"\n",
              "            title=\"Suggest charts\"\n",
              "            style=\"display:none;\">\n",
              "\n",
              "<svg xmlns=\"http://www.w3.org/2000/svg\" height=\"24px\"viewBox=\"0 0 24 24\"\n",
              "     width=\"24px\">\n",
              "    <g>\n",
              "        <path d=\"M19 3H5c-1.1 0-2 .9-2 2v14c0 1.1.9 2 2 2h14c1.1 0 2-.9 2-2V5c0-1.1-.9-2-2-2zM9 17H7v-7h2v7zm4 0h-2V7h2v10zm4 0h-2v-4h2v4z\"/>\n",
              "    </g>\n",
              "</svg>\n",
              "  </button>\n",
              "\n",
              "<style>\n",
              "  .colab-df-quickchart {\n",
              "      --bg-color: #E8F0FE;\n",
              "      --fill-color: #1967D2;\n",
              "      --hover-bg-color: #E2EBFA;\n",
              "      --hover-fill-color: #174EA6;\n",
              "      --disabled-fill-color: #AAA;\n",
              "      --disabled-bg-color: #DDD;\n",
              "  }\n",
              "\n",
              "  [theme=dark] .colab-df-quickchart {\n",
              "      --bg-color: #3B4455;\n",
              "      --fill-color: #D2E3FC;\n",
              "      --hover-bg-color: #434B5C;\n",
              "      --hover-fill-color: #FFFFFF;\n",
              "      --disabled-bg-color: #3B4455;\n",
              "      --disabled-fill-color: #666;\n",
              "  }\n",
              "\n",
              "  .colab-df-quickchart {\n",
              "    background-color: var(--bg-color);\n",
              "    border: none;\n",
              "    border-radius: 50%;\n",
              "    cursor: pointer;\n",
              "    display: none;\n",
              "    fill: var(--fill-color);\n",
              "    height: 32px;\n",
              "    padding: 0;\n",
              "    width: 32px;\n",
              "  }\n",
              "\n",
              "  .colab-df-quickchart:hover {\n",
              "    background-color: var(--hover-bg-color);\n",
              "    box-shadow: 0 1px 2px rgba(60, 64, 67, 0.3), 0 1px 3px 1px rgba(60, 64, 67, 0.15);\n",
              "    fill: var(--button-hover-fill-color);\n",
              "  }\n",
              "\n",
              "  .colab-df-quickchart-complete:disabled,\n",
              "  .colab-df-quickchart-complete:disabled:hover {\n",
              "    background-color: var(--disabled-bg-color);\n",
              "    fill: var(--disabled-fill-color);\n",
              "    box-shadow: none;\n",
              "  }\n",
              "\n",
              "  .colab-df-spinner {\n",
              "    border: 2px solid var(--fill-color);\n",
              "    border-color: transparent;\n",
              "    border-bottom-color: var(--fill-color);\n",
              "    animation:\n",
              "      spin 1s steps(1) infinite;\n",
              "  }\n",
              "\n",
              "  @keyframes spin {\n",
              "    0% {\n",
              "      border-color: transparent;\n",
              "      border-bottom-color: var(--fill-color);\n",
              "      border-left-color: var(--fill-color);\n",
              "    }\n",
              "    20% {\n",
              "      border-color: transparent;\n",
              "      border-left-color: var(--fill-color);\n",
              "      border-top-color: var(--fill-color);\n",
              "    }\n",
              "    30% {\n",
              "      border-color: transparent;\n",
              "      border-left-color: var(--fill-color);\n",
              "      border-top-color: var(--fill-color);\n",
              "      border-right-color: var(--fill-color);\n",
              "    }\n",
              "    40% {\n",
              "      border-color: transparent;\n",
              "      border-right-color: var(--fill-color);\n",
              "      border-top-color: var(--fill-color);\n",
              "    }\n",
              "    60% {\n",
              "      border-color: transparent;\n",
              "      border-right-color: var(--fill-color);\n",
              "    }\n",
              "    80% {\n",
              "      border-color: transparent;\n",
              "      border-right-color: var(--fill-color);\n",
              "      border-bottom-color: var(--fill-color);\n",
              "    }\n",
              "    90% {\n",
              "      border-color: transparent;\n",
              "      border-bottom-color: var(--fill-color);\n",
              "    }\n",
              "  }\n",
              "</style>\n",
              "\n",
              "  <script>\n",
              "    async function quickchart(key) {\n",
              "      const quickchartButtonEl =\n",
              "        document.querySelector('#' + key + ' button');\n",
              "      quickchartButtonEl.disabled = true;  // To prevent multiple clicks.\n",
              "      quickchartButtonEl.classList.add('colab-df-spinner');\n",
              "      try {\n",
              "        const charts = await google.colab.kernel.invokeFunction(\n",
              "            'suggestCharts', [key], {});\n",
              "      } catch (error) {\n",
              "        console.error('Error during call to suggestCharts:', error);\n",
              "      }\n",
              "      quickchartButtonEl.classList.remove('colab-df-spinner');\n",
              "      quickchartButtonEl.classList.add('colab-df-quickchart-complete');\n",
              "    }\n",
              "    (() => {\n",
              "      let quickchartButtonEl =\n",
              "        document.querySelector('#df-804d8100-0448-460a-8696-0e95873c65f5 button');\n",
              "      quickchartButtonEl.style.display =\n",
              "        google.colab.kernel.accessAllowed ? 'block' : 'none';\n",
              "    })();\n",
              "  </script>\n",
              "</div>\n",
              "    </div>\n",
              "  </div>\n"
            ],
            "text/plain": [
              "   n_homologies  corr_param  \\\n",
              "0           2.0        0.60   \n",
              "1           3.0        0.60   \n",
              "2           2.0        0.65   \n",
              "3           3.0        0.65   \n",
              "4           2.0        0.70   \n",
              "5           3.0        0.70   \n",
              "6           2.0        0.75   \n",
              "7           3.0        0.75   \n",
              "8           2.0        0.80   \n",
              "9           3.0        0.80   \n",
              "\n",
              "                                              labels  percentage  \n",
              "0  1 0 0 1 1 1 1 1 0 1 1 1 0 0 0 0 0 0 0 1 1 1 1 ...   56.521739  \n",
              "1  1 0 1 1 1 1 1 1 0 1 1 1 0 0 0 0 0 0 0 1 1 1 1 ...   52.173913  \n",
              "2  1 1 0 0 0 0 0 0 1 0 0 1 1 1 1 1 1 1 1 1 0 1 0 ...   58.695652  \n",
              "3  0 0 1 1 1 1 1 1 1 1 1 0 1 1 1 0 0 0 0 0 1 0 1 ...   63.043478  \n",
              "4  0 0 1 1 1 1 1 1 1 1 1 0 1 1 1 0 0 0 0 0 1 0 0 ...   65.217391  \n",
              "5  0 0 1 1 1 1 1 1 1 1 1 0 1 1 1 0 0 0 0 0 1 0 0 ...   63.043478  \n",
              "6  1 1 0 1 1 1 1 1 0 1 1 1 0 0 0 0 0 0 1 1 1 1 1 ...   65.217391  \n",
              "7  0 0 1 0 0 0 0 0 1 0 0 0 1 1 1 1 1 1 0 0 0 0 0 ...   63.043478  \n",
              "8  1 1 1 1 1 1 1 1 1 1 1 1 0 0 0 0 0 0 1 0 1 1 1 ...   52.173913  \n",
              "9  1 1 1 1 1 1 1 1 1 1 1 1 0 0 0 0 0 1 1 1 1 1 1 ...   56.521739  "
            ]
          },
          "execution_count": 28,
          "metadata": {},
          "output_type": "execute_result"
        }
      ],
      "source": [
        "df"
      ]
    },
    {
      "cell_type": "code",
      "execution_count": null,
      "metadata": {
        "id": "ARPISirLcUKa"
      },
      "outputs": [],
      "source": [
        "df.to_csv('/content/drive/MyDrive/hse/kursach1/results/result_table.csv', index=False)"
      ]
    },
    {
      "cell_type": "code",
      "execution_count": null,
      "metadata": {
        "id": "8R3rh0ABTraY"
      },
      "outputs": [],
      "source": [
        "from sklearn.metrics import silhouette_score\n",
        "silhouette_avg = silhouette_score(X, kmeans.labels_)\n",
        "print(\"The average silhouette_score is :\", silhouette_avg)"
      ]
    },
    {
      "cell_type": "markdown",
      "metadata": {
        "id": "otuJ_Um_626K"
      },
      "source": [
        "### Сравнение gudhi и giotto-tda"
      ]
    },
    {
      "cell_type": "code",
      "execution_count": null,
      "metadata": {
        "id": "WvYQW-tQ8crb"
      },
      "outputs": [],
      "source": [
        "import gudhi\n",
        "\n",
        "def gudhi_pers_diagram(data):\n",
        "\n",
        "  rips_complex = gudhi.RipsComplex(distance_matrix=data, max_edge_length=1.0)\n",
        "\n",
        "  simplex_tree = rips_complex.create_simplex_tree(max_dimension=2)\n",
        "  simplex_tree.get_filtration()\n",
        "  return simplex_tree.persistence()\n",
        "# len(diag)\n",
        "# # corr_array[0].shape"
      ]
    },
    {
      "cell_type": "code",
      "execution_count": null,
      "metadata": {
        "colab": {
          "base_uri": "https://localhost:8080/"
        },
        "id": "UldggYhP61r1",
        "outputId": "85e2163a-d4a3-4f0b-884a-3e57b95b8079"
      },
      "outputs": [
        {
          "name": "stdout",
          "output_type": "stream",
          "text": [
            "1.057466199000146 2.2219925070000954\n"
          ]
        }
      ],
      "source": [
        "import timeit\n",
        "\n",
        "time_giotto = timeit.timeit('pers_diagram(corr_array, 2)', number=1, globals=globals())\n",
        "time_gudhi = timeit.timeit('gudhi_pers_diagram(corr_array[0])', number=1, globals=globals())\n",
        "\n",
        "print(time_giotto, time_gudhi)"
      ]
    }
  ],
  "metadata": {
    "colab": {
      "collapsed_sections": [
        "fB5ryknf5Xpl",
        "_6gkfdxl5ryV",
        "HXKTHl9Wfmpe",
        "axhhF2Mfgc7n"
      ],
      "provenance": []
    },
    "kernelspec": {
      "display_name": "Python 3",
      "name": "python3"
    },
    "language_info": {
      "codemirror_mode": {
        "name": "ipython",
        "version": 3
      },
      "file_extension": ".py",
      "mimetype": "text/x-python",
      "name": "python",
      "nbconvert_exporter": "python",
      "pygments_lexer": "ipython3",
      "version": "3.11.6"
    },
    "vscode": {
      "interpreter": {
        "hash": "b0fa6594d8f4cbf19f97940f81e996739fb7646882a419484c72d19e05852a7e"
      }
    }
  },
  "nbformat": 4,
  "nbformat_minor": 0
}
